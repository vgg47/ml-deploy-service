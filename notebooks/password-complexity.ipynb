{
 "cells": [
  {
   "cell_type": "code",
   "execution_count": 1,
   "id": "french-consensus",
   "metadata": {
    "ExecuteTime": {
     "end_time": "2021-04-15T17:11:04.771603Z",
     "start_time": "2021-04-15T17:11:02.134810Z"
    }
   },
   "outputs": [],
   "source": [
    "import pandas as pd\n",
    "import numpy as np\n",
    "import matplotlib.pyplot as plt\n",
    "import seaborn as sns\n",
    "import typing as tp\n",
    "\n",
    "from tqdm import tqdm\n",
    "from collections import Counter\n",
    "from sklearn.model_selection import train_test_split\n",
    "from functools import partial\n",
    "\n",
    "sns.set_theme()"
   ]
  },
  {
   "cell_type": "code",
   "execution_count": 14,
   "id": "musical-label",
   "metadata": {},
   "outputs": [
    {
     "name": "stderr",
     "output_type": "stream",
     "text": [
      "WARNING: pip is being invoked by an old script wrapper. This will fail in a future version of pip.\n",
      "Please see https://github.com/pypa/pip/issues/5599 for advice on fixing the underlying issue.\n",
      "To avoid this problem you can invoke Python with '-m pip' instead of running pip directly.\n"
     ]
    },
    {
     "name": "stdout",
     "output_type": "stream",
     "text": [
      "Collecting tmdbsimple\n",
      "  Downloading tmdbsimple-2.8.0-py3-none-any.whl (38 kB)\n",
      "Requirement already satisfied: requests in /usr/local/lib/python3.9/site-packages (from tmdbsimple) (2.25.1)\n",
      "Requirement already satisfied: chardet<5,>=3.0.2 in /usr/local/lib/python3.9/site-packages (from requests->tmdbsimple) (4.0.0)\n",
      "Requirement already satisfied: idna<3,>=2.5 in /usr/local/lib/python3.9/site-packages (from requests->tmdbsimple) (2.10)\n",
      "Requirement already satisfied: certifi>=2017.4.17 in /usr/local/lib/python3.9/site-packages (from requests->tmdbsimple) (2020.12.5)\n",
      "Requirement already satisfied: urllib3<1.27,>=1.21.1 in /usr/local/lib/python3.9/site-packages (from requests->tmdbsimple) (1.26.3)\n",
      "Installing collected packages: tmdbsimple\n",
      "Successfully installed tmdbsimple-2.8.0\n"
     ]
    },
    {
     "name": "stderr",
     "output_type": "stream",
     "text": [
      "WARNING: You are using pip version 21.0.1; however, version 21.1.1 is available.\n",
      "You should consider upgrading via the '/usr/local/opt/python@3.9/bin/python3.9 -m pip install --upgrade pip' command.\n"
     ]
    },
    {
     "name": "stdout",
     "output_type": "stream",
     "text": [
      "13:22:38 start blocking IO\n",
      "13:22:38 finished blocking IO\n"
     ]
    },
    {
     "data": {
      "text/plain": [
       "{'adult': False,\n",
       " 'backdrop_path': '/yB2hTgz9CTVYjlMWPSl3LPx5nWj.jpg',\n",
       " 'genre_ids': [35, 18, 53],\n",
       " 'id': 466272,\n",
       " 'original_language': 'en',\n",
       " 'original_title': 'Once Upon a Time… in Hollywood',\n",
       " 'overview': 'Los Angeles, 1969. TV star Rick Dalton, a struggling actor specializing in westerns, and stuntman Cliff Booth, his best friend, try to survive in a constantly changing movie industry. Dalton is the neighbor of the young and promising actress and model Sharon Tate, who has just married the prestigious Polish director Roman Polanski…',\n",
       " 'popularity': 39.733,\n",
       " 'poster_path': '/8j58iEBw9pOXFD2L0nt0ZXeHviB.jpg',\n",
       " 'release_date': '2019-07-24',\n",
       " 'title': 'Once Upon a Time… in Hollywood',\n",
       " 'video': False,\n",
       " 'vote_average': 7.5,\n",
       " 'vote_count': 8618}"
      ]
     },
     "execution_count": 14,
     "metadata": {},
     "output_type": "execute_result"
    }
   ],
   "source": [
    "import pip\n",
    "pip.main(['install', 'tmdbsimple'])\n",
    "import requests\n",
    "import time\n",
    "import tmdbsimple as tmdb\n"
   ]
  },
  {
   "cell_type": "code",
   "execution_count": 2,
   "id": "willing-leather",
   "metadata": {
    "ExecuteTime": {
     "end_time": "2021-04-15T17:11:04.919313Z",
     "start_time": "2021-04-15T17:11:04.774724Z"
    }
   },
   "outputs": [
    {
     "name": "stdout",
     "output_type": "stream",
     "text": [
      "password-complexity.ipynb\r\n"
     ]
    }
   ],
   "source": [
    "!ls"
   ]
  },
  {
   "cell_type": "code",
   "execution_count": 3,
   "id": "drawn-remains",
   "metadata": {
    "ExecuteTime": {
     "end_time": "2021-04-13T22:31:30.062303Z",
     "start_time": "2021-04-13T22:31:27.312691Z"
    }
   },
   "outputs": [],
   "source": [
    "train = pd.read_csv('../datasets/password-complexity/train.csv')"
   ]
  },
  {
   "cell_type": "code",
   "execution_count": 4,
   "id": "animal-blast",
   "metadata": {
    "ExecuteTime": {
     "end_time": "2021-04-15T18:15:09.728827Z",
     "start_time": "2021-04-15T18:15:09.015394Z"
    }
   },
   "outputs": [],
   "source": [
    "test = pd.read_csv('../datasets/password-complexity/test.csv')"
   ]
  },
  {
   "cell_type": "code",
   "execution_count": 5,
   "id": "facial-badge",
   "metadata": {
    "ExecuteTime": {
     "end_time": "2021-04-15T18:19:29.963251Z",
     "start_time": "2021-04-15T18:19:29.847504Z"
    }
   },
   "outputs": [],
   "source": [
    "train = train.fillna(\"\")\n",
    "test = test.fillna(\"\")"
   ]
  },
  {
   "cell_type": "code",
   "execution_count": 6,
   "id": "united-recorder",
   "metadata": {
    "ExecuteTime": {
     "end_time": "2021-04-13T22:31:30.373191Z",
     "start_time": "2021-04-13T22:31:30.065203Z"
    },
    "scrolled": true
   },
   "outputs": [
    {
     "data": {
      "text/html": [
       "<div>\n",
       "<style scoped>\n",
       "    .dataframe tbody tr th:only-of-type {\n",
       "        vertical-align: middle;\n",
       "    }\n",
       "\n",
       "    .dataframe tbody tr th {\n",
       "        vertical-align: top;\n",
       "    }\n",
       "\n",
       "    .dataframe thead th {\n",
       "        text-align: right;\n",
       "    }\n",
       "</style>\n",
       "<table border=\"1\" class=\"dataframe\">\n",
       "  <thead>\n",
       "    <tr style=\"text-align: right;\">\n",
       "      <th></th>\n",
       "      <th>Password</th>\n",
       "      <th>Times</th>\n",
       "    </tr>\n",
       "  </thead>\n",
       "  <tbody>\n",
       "    <tr>\n",
       "      <th>2715397</th>\n",
       "      <td>123456</td>\n",
       "      <td>55893</td>\n",
       "    </tr>\n",
       "    <tr>\n",
       "      <th>3136279</th>\n",
       "      <td>qwerty</td>\n",
       "      <td>13137</td>\n",
       "    </tr>\n",
       "    <tr>\n",
       "      <th>1175081</th>\n",
       "      <td>123456789</td>\n",
       "      <td>11696</td>\n",
       "    </tr>\n",
       "    <tr>\n",
       "      <th>2363307</th>\n",
       "      <td>12345</td>\n",
       "      <td>10938</td>\n",
       "    </tr>\n",
       "    <tr>\n",
       "      <th>2988373</th>\n",
       "      <td>1234</td>\n",
       "      <td>6432</td>\n",
       "    </tr>\n",
       "    <tr>\n",
       "      <th>2307329</th>\n",
       "      <td>111111</td>\n",
       "      <td>5682</td>\n",
       "    </tr>\n",
       "    <tr>\n",
       "      <th>3348280</th>\n",
       "      <td>1234567</td>\n",
       "      <td>4796</td>\n",
       "    </tr>\n",
       "    <tr>\n",
       "      <th>1795496</th>\n",
       "      <td>dragon</td>\n",
       "      <td>3927</td>\n",
       "    </tr>\n",
       "    <tr>\n",
       "      <th>3336606</th>\n",
       "      <td>123123</td>\n",
       "      <td>3845</td>\n",
       "    </tr>\n",
       "    <tr>\n",
       "      <th>3798071</th>\n",
       "      <td>baseball</td>\n",
       "      <td>3565</td>\n",
       "    </tr>\n",
       "    <tr>\n",
       "      <th>3135141</th>\n",
       "      <td>abc123</td>\n",
       "      <td>3511</td>\n",
       "    </tr>\n",
       "    <tr>\n",
       "      <th>3541881</th>\n",
       "      <td>football</td>\n",
       "      <td>3494</td>\n",
       "    </tr>\n",
       "    <tr>\n",
       "      <th>1747604</th>\n",
       "      <td>letmein</td>\n",
       "      <td>3118</td>\n",
       "    </tr>\n",
       "    <tr>\n",
       "      <th>177871</th>\n",
       "      <td>shadow</td>\n",
       "      <td>2956</td>\n",
       "    </tr>\n",
       "    <tr>\n",
       "      <th>2678990</th>\n",
       "      <td>master</td>\n",
       "      <td>2931</td>\n",
       "    </tr>\n",
       "    <tr>\n",
       "      <th>2845798</th>\n",
       "      <td>666666</td>\n",
       "      <td>2905</td>\n",
       "    </tr>\n",
       "    <tr>\n",
       "      <th>3061106</th>\n",
       "      <td>qwertyuiop</td>\n",
       "      <td>2860</td>\n",
       "    </tr>\n",
       "    <tr>\n",
       "      <th>584867</th>\n",
       "      <td>mustang</td>\n",
       "      <td>2804</td>\n",
       "    </tr>\n",
       "    <tr>\n",
       "      <th>3096637</th>\n",
       "      <td>654321</td>\n",
       "      <td>2665</td>\n",
       "    </tr>\n",
       "    <tr>\n",
       "      <th>2257222</th>\n",
       "      <td>pussy</td>\n",
       "      <td>2573</td>\n",
       "    </tr>\n",
       "    <tr>\n",
       "      <th>385137</th>\n",
       "      <td>1qaz2wsx</td>\n",
       "      <td>2531</td>\n",
       "    </tr>\n",
       "    <tr>\n",
       "      <th>1120418</th>\n",
       "      <td>7777777</td>\n",
       "      <td>2480</td>\n",
       "    </tr>\n",
       "    <tr>\n",
       "      <th>425279</th>\n",
       "      <td>fuckyou</td>\n",
       "      <td>2345</td>\n",
       "    </tr>\n",
       "    <tr>\n",
       "      <th>3229701</th>\n",
       "      <td>121212</td>\n",
       "      <td>2340</td>\n",
       "    </tr>\n",
       "    <tr>\n",
       "      <th>3883643</th>\n",
       "      <td>qazwsx</td>\n",
       "      <td>2315</td>\n",
       "    </tr>\n",
       "    <tr>\n",
       "      <th>625963</th>\n",
       "      <td>123qwe</td>\n",
       "      <td>2296</td>\n",
       "    </tr>\n",
       "    <tr>\n",
       "      <th>712456</th>\n",
       "      <td>killer</td>\n",
       "      <td>2221</td>\n",
       "    </tr>\n",
       "    <tr>\n",
       "      <th>2628304</th>\n",
       "      <td>jordan</td>\n",
       "      <td>2189</td>\n",
       "    </tr>\n",
       "    <tr>\n",
       "      <th>1807658</th>\n",
       "      <td>jennifer</td>\n",
       "      <td>2155</td>\n",
       "    </tr>\n",
       "    <tr>\n",
       "      <th>769528</th>\n",
       "      <td>zxcvbnm</td>\n",
       "      <td>2085</td>\n",
       "    </tr>\n",
       "    <tr>\n",
       "      <th>2089878</th>\n",
       "      <td>asdfgh</td>\n",
       "      <td>2074</td>\n",
       "    </tr>\n",
       "    <tr>\n",
       "      <th>311449</th>\n",
       "      <td>hunter</td>\n",
       "      <td>2045</td>\n",
       "    </tr>\n",
       "    <tr>\n",
       "      <th>3804747</th>\n",
       "      <td>soccer</td>\n",
       "      <td>1964</td>\n",
       "    </tr>\n",
       "    <tr>\n",
       "      <th>3783021</th>\n",
       "      <td>batman</td>\n",
       "      <td>1935</td>\n",
       "    </tr>\n",
       "    <tr>\n",
       "      <th>1864994</th>\n",
       "      <td>sunshine</td>\n",
       "      <td>1901</td>\n",
       "    </tr>\n",
       "    <tr>\n",
       "      <th>1644230</th>\n",
       "      <td>fuckme</td>\n",
       "      <td>1868</td>\n",
       "    </tr>\n",
       "    <tr>\n",
       "      <th>3302574</th>\n",
       "      <td>2000</td>\n",
       "      <td>1861</td>\n",
       "    </tr>\n",
       "    <tr>\n",
       "      <th>804594</th>\n",
       "      <td>hockey</td>\n",
       "      <td>1783</td>\n",
       "    </tr>\n",
       "    <tr>\n",
       "      <th>1166785</th>\n",
       "      <td>ranger</td>\n",
       "      <td>1771</td>\n",
       "    </tr>\n",
       "    <tr>\n",
       "      <th>3834388</th>\n",
       "      <td>daniel</td>\n",
       "      <td>1727</td>\n",
       "    </tr>\n",
       "    <tr>\n",
       "      <th>3351563</th>\n",
       "      <td>starwars</td>\n",
       "      <td>1718</td>\n",
       "    </tr>\n",
       "    <tr>\n",
       "      <th>2788383</th>\n",
       "      <td>klaster</td>\n",
       "      <td>1705</td>\n",
       "    </tr>\n",
       "    <tr>\n",
       "      <th>1525092</th>\n",
       "      <td>112233</td>\n",
       "      <td>1702</td>\n",
       "    </tr>\n",
       "    <tr>\n",
       "      <th>1129735</th>\n",
       "      <td>george</td>\n",
       "      <td>1699</td>\n",
       "    </tr>\n",
       "    <tr>\n",
       "      <th>553802</th>\n",
       "      <td>asshole</td>\n",
       "      <td>1692</td>\n",
       "    </tr>\n",
       "    <tr>\n",
       "      <th>49123</th>\n",
       "      <td>computer</td>\n",
       "      <td>1688</td>\n",
       "    </tr>\n",
       "    <tr>\n",
       "      <th>2490203</th>\n",
       "      <td>michelle</td>\n",
       "      <td>1677</td>\n",
       "    </tr>\n",
       "    <tr>\n",
       "      <th>2177478</th>\n",
       "      <td>jessica</td>\n",
       "      <td>1664</td>\n",
       "    </tr>\n",
       "    <tr>\n",
       "      <th>3451509</th>\n",
       "      <td>1111</td>\n",
       "      <td>1648</td>\n",
       "    </tr>\n",
       "    <tr>\n",
       "      <th>1703126</th>\n",
       "      <td>zxcvbn</td>\n",
       "      <td>1635</td>\n",
       "    </tr>\n",
       "  </tbody>\n",
       "</table>\n",
       "</div>"
      ],
      "text/plain": [
       "           Password  Times\n",
       "2715397      123456  55893\n",
       "3136279      qwerty  13137\n",
       "1175081   123456789  11696\n",
       "2363307       12345  10938\n",
       "2988373        1234   6432\n",
       "2307329      111111   5682\n",
       "3348280     1234567   4796\n",
       "1795496      dragon   3927\n",
       "3336606      123123   3845\n",
       "3798071    baseball   3565\n",
       "3135141      abc123   3511\n",
       "3541881    football   3494\n",
       "1747604     letmein   3118\n",
       "177871       shadow   2956\n",
       "2678990      master   2931\n",
       "2845798      666666   2905\n",
       "3061106  qwertyuiop   2860\n",
       "584867      mustang   2804\n",
       "3096637      654321   2665\n",
       "2257222       pussy   2573\n",
       "385137     1qaz2wsx   2531\n",
       "1120418     7777777   2480\n",
       "425279      fuckyou   2345\n",
       "3229701      121212   2340\n",
       "3883643      qazwsx   2315\n",
       "625963       123qwe   2296\n",
       "712456       killer   2221\n",
       "2628304      jordan   2189\n",
       "1807658    jennifer   2155\n",
       "769528      zxcvbnm   2085\n",
       "2089878      asdfgh   2074\n",
       "311449       hunter   2045\n",
       "3804747      soccer   1964\n",
       "3783021      batman   1935\n",
       "1864994    sunshine   1901\n",
       "1644230      fuckme   1868\n",
       "3302574        2000   1861\n",
       "804594       hockey   1783\n",
       "1166785      ranger   1771\n",
       "3834388      daniel   1727\n",
       "3351563    starwars   1718\n",
       "2788383     klaster   1705\n",
       "1525092      112233   1702\n",
       "1129735      george   1699\n",
       "553802      asshole   1692\n",
       "49123      computer   1688\n",
       "2490203    michelle   1677\n",
       "2177478     jessica   1664\n",
       "3451509        1111   1648\n",
       "1703126      zxcvbn   1635"
      ]
     },
     "execution_count": 6,
     "metadata": {},
     "output_type": "execute_result"
    }
   ],
   "source": [
    "train.loc[train.Times.sort_values(ascending=False)[:50].index]"
   ]
  },
  {
   "cell_type": "code",
   "execution_count": 7,
   "id": "qualified-liberia",
   "metadata": {
    "ExecuteTime": {
     "end_time": "2021-04-13T22:31:31.596068Z",
     "start_time": "2021-04-13T22:31:30.375922Z"
    }
   },
   "outputs": [],
   "source": [
    "train = train[train.Password.apply(lambda x: isinstance(x, str))]"
   ]
  },
  {
   "cell_type": "code",
   "execution_count": 8,
   "id": "digital-hunter",
   "metadata": {
    "ExecuteTime": {
     "end_time": "2021-04-13T22:32:46.106988Z",
     "start_time": "2021-04-13T22:32:17.695770Z"
    },
    "scrolled": false
   },
   "outputs": [],
   "source": [
    "# from collections import defaultdict\n",
    "\n",
    "# bi = defaultdict(int)\n",
    "\n",
    "# for p in tqdm(train.Password):\n",
    "#     for l, r in zip(p, p[1:]):\n",
    "#         bi[l+r] += 1\n",
    "# bi = Counter(bi)\n",
    "# # bi.most_common(100)\n",
    "\n",
    "# tri = defaultdict(int)\n",
    "\n",
    "# for p in tqdm(train.Password):\n",
    "#     for l, m, r in zip(p, p[1:], p[2:]):\n",
    "#         tri[l+m+r] += 1\n",
    "# tri = Counter(tri)\n",
    "# # tri.most_common(200)\n",
    "\n",
    "# four = defaultdict(int)\n",
    "\n",
    "# for p in tqdm(train.Password):\n",
    "#     for l, m, c, r in zip(p, p[1:], p[2:], p[3:]):\n",
    "#         four[l+m+c+r] += 1\n",
    "# four = Counter(four)"
   ]
  },
  {
   "cell_type": "code",
   "execution_count": 1,
   "id": "sitting-climate",
   "metadata": {
    "ExecuteTime": {
     "end_time": "2021-04-15T18:19:55.760425Z",
     "start_time": "2021-04-15T18:19:33.832884Z"
    }
   },
   "outputs": [],
   "source": [
    "import re\n",
    "\n",
    "def hasNumbers(inputString):\n",
    "    return bool(re.search(r'\\d', inputString))\n",
    "\n",
    "def hasLetters(inputString):\n",
    "    return bool(re.search(r'\\w', inputString))\n",
    "\n",
    "def number_of_characters(pswrd):\n",
    "    return len(pswrd) * 4\n",
    "\n",
    "def uppercase_letters(pswrd):\n",
    "    return (len(pswrd) - sum(1 for c in pswrd if c.isupper())) * 2\n",
    "\n",
    "def lowercase_letters(pswrd):\n",
    "    return (len(pswrd) - sum(1 for c in pswrd if c.islower())) * 2\n",
    "\n",
    "def number_of_numbers(pswrd):\n",
    "    return len(re.findall(r'\\d', pswrd)) * 4\n",
    "\n",
    "def number_of_symbols(pswrd):\n",
    "    return (len(pswrd) - len(re.findall(r'\\w', pswrd))) * 6 \n",
    "\n",
    "def middel_numbers_or_symbols(pswrd):\n",
    "    if len(pswrd) > 2:\n",
    "        pswrd = pswrd[1:-1] \n",
    "        return ((len(pswrd) - len(re.findall(r'\\w', pswrd))) + len(re.findall(r'\\d', pswrd))) * 2 \n",
    "    else:\n",
    "        return 0\n",
    "\n",
    "def letters_only(pswrd):\n",
    "    return len(pswrd) * pswrd.isalpha()\n",
    "\n",
    "def numbers_only(pswrd):\n",
    "    return len(pswrd) * pswrd.isdigit()\n",
    "\n",
    "def consecutive_uppercase_letters(pswrd):\n",
    "    score = 0\n",
    "    for l, r in zip(pswrd, pswrd[1:]):\n",
    "        score += l.isupper() and r.isupper()\n",
    "    return score * 2\n",
    "\n",
    "def consecutive_lowercase_letters(pswrd):\n",
    "    score = 0\n",
    "    for l, r in zip(pswrd, pswrd[1:]):\n",
    "        score += l.islower() and r.islower()\n",
    "    return score * 2\n",
    "\n",
    "def consecutive_numbers(pswrd):\n",
    "    score = 0\n",
    "    for l, r in zip(pswrd, pswrd[1:]):\n",
    "        score += l.isdigit() and r.isdigit()\n",
    "    return score * 2\n",
    "\n",
    "def has_top_substr(pswrd, s):\n",
    "    return pswrd.count(s)\n",
    "\n",
    "feature_funcs = [\n",
    "    number_of_characters,\n",
    "    uppercase_letters,\n",
    "    lowercase_letters,\n",
    "    number_of_numbers,\n",
    "    number_of_symbols,\n",
    "    middel_numbers_or_symbols,\n",
    "    letters_only,\n",
    "    numbers_only,\n",
    "    consecutive_uppercase_letters,\n",
    "    consecutive_lowercase_letters,\n",
    "    consecutive_numbers\n",
    "]\n",
    "\n",
    "# for f in tqdm(feature_funcs):\n",
    "#     train[f.__qualname__] = train.Password.apply(f).astype('int8', copy=False)\n",
    "\n",
    "# for b in tqdm(map(lambda x: x[0], bi.most_common(200))):\n",
    "#     X_te[b] = X_te.Password.apply(has_top_substr, s=b).astype('int8', copy=False)\n",
    "\n",
    "# for t in tqdm(map(lambda x: x[0], tri.most_common(150))):\n",
    "#     X_te[t] = train.Password.apply(has_top_substr, s=t).astype('int8', copy=False)\n",
    "    \n",
    "# for f in tqdm(map(lambda x: x[0], four.most_common(100))):\n",
    "#     train[f] = train.Password.apply(has_top_substr, s=f).astype('int8', copy=False)\n",
    "# hasLetters(\"631XniVx2lS5I\")\n",
    "# train['has_numbers'] = train.Password.apply(hasNumbers)\n",
    "# train['has_letters'] = train.Password.apply(hasLetters)"
   ]
  },
  {
   "cell_type": "code",
   "execution_count": 10,
   "id": "trying-board",
   "metadata": {
    "ExecuteTime": {
     "end_time": "2021-04-15T17:50:34.113224Z",
     "start_time": "2021-04-15T17:50:34.107894Z"
    }
   },
   "outputs": [],
   "source": [
    "base_features = {\n",
    "    \"Password\": str,\n",
    "    \"Times\": np.int32,\n",
    "    \"number_of_characters\": np.int8,\n",
    "    \"uppercase_letters\": np.int8,\n",
    "    \"lowercase_letters\": np.int8,\n",
    "    \"number_of_numbers\": np.int8,\n",
    "    \"number_of_symbols\": np.int8,\n",
    "    \"middel_numbers_or_symbols\": np.int8,\n",
    "    \"letters_only\": np.int8,\n",
    "    \"numbers_only\": np.int8,\n",
    "    \"consecutive_uppercase_letters\": np.int8,\n",
    "    \"consecutive_lowercase_letters\": np.int8,\n",
    "    \"consecutive_numbers\": np.int8,\n",
    "}"
   ]
  },
  {
   "cell_type": "code",
   "execution_count": 11,
   "id": "creative-simpson",
   "metadata": {
    "ExecuteTime": {
     "end_time": "2021-04-15T17:50:39.971408Z",
     "start_time": "2021-04-15T17:50:39.804605Z"
    }
   },
   "outputs": [],
   "source": [
    "train = train[list(base_features.keys())]"
   ]
  },
  {
   "cell_type": "code",
   "execution_count": 12,
   "id": "oriented-october",
   "metadata": {
    "ExecuteTime": {
     "end_time": "2021-04-15T17:50:46.068503Z",
     "start_time": "2021-04-15T17:50:41.576659Z"
    }
   },
   "outputs": [],
   "source": [
    "# fit_part, test_part = train_test_split(train, train_size=0.9, random_state=17)\n",
    "\n",
    "# train_part, val_part = train_test_split(fit_part, train_size=0.7, random_state=17)\n",
    "\n",
    "# X_tr, y_tr = train_part.drop(columns=['Times', 'Password']), train_part.Times \n",
    "# X_va, y_va = val_part.drop(columns=['Times', 'Password']), val_part.Times \n",
    "# X_te, y_te = test_part.drop(columns=['Times', 'Password']), test_part.Times \n",
    "\n",
    "# del train_part, val_part, test_part "
   ]
  },
  {
   "cell_type": "code",
   "execution_count": 13,
   "id": "funded-submission",
   "metadata": {
    "ExecuteTime": {
     "end_time": "2021-04-15T17:55:12.741144Z",
     "start_time": "2021-04-15T17:55:12.736791Z"
    }
   },
   "outputs": [],
   "source": [
    "# import catboost as cb\n",
    "from sklearn.metrics import mean_squared_log_error as msle\n",
    "\n",
    "def rmsle(y_true, y_pred):\n",
    "    return msle(y_true, y_pred) ** 0.5\n",
    "\n",
    "# train_pool = cb.Pool(X_tr, label=y_tr)\n",
    "# val_pool = cb.Pool(X_va, label=y_va)\n",
    "\n",
    "# cb_m = cb.CatBoostRegressor(loss_function='RMSE', iterations=500)\n",
    "# cb_m.fit(train_pool, eval_set=val_pool)\n",
    "\n",
    "# y_pred = cb_m.predict(X_va)\n",
    "\n",
    "# y_pred = np.maximum(0, y_pred)\n",
    "# print(\"max 0 and pred: \", rmsle(y_pred, y_va))\n",
    "# y_pred = np.maximum(1, y_pred)\n",
    "# print(\"max 1 and pred: \", rmsle(y_pred, y_va))\n",
    "# y_pred = y_pred / y_pred.mean() * y_tr.mean()\n",
    "# print(\"max 1 and pred and normed: \", rmsle(y_pred, y_va))\n",
    "\n",
    "# plt.hist(y_pred, bins=np.arange(-7, 10, 0.1));\n",
    "# print(y_pred.mean())\n",
    "# print(rmsle([1.3] * len(y_va), y_va))"
   ]
  },
  {
   "cell_type": "markdown",
   "id": "young-rolling",
   "metadata": {},
   "source": [
    "## xgboost"
   ]
  },
  {
   "cell_type": "code",
   "execution_count": 17,
   "id": "closing-gardening",
   "metadata": {},
   "outputs": [
    {
     "name": "stderr",
     "output_type": "stream",
     "text": [
      "WARNING: pip is being invoked by an old script wrapper. This will fail in a future version of pip.\n",
      "Please see https://github.com/pypa/pip/issues/5599 for advice on fixing the underlying issue.\n",
      "To avoid this problem you can invoke Python with '-m pip' instead of running pip directly.\n"
     ]
    },
    {
     "name": "stdout",
     "output_type": "stream",
     "text": [
      "Requirement already satisfied: xgboost in /usr/local/lib/python3.9/site-packages (1.4.1)\n",
      "Requirement already satisfied: numpy in /usr/local/lib/python3.9/site-packages (from xgboost) (1.19.4)\n",
      "Requirement already satisfied: scipy in /usr/local/lib/python3.9/site-packages (from xgboost) (1.6.1)\n"
     ]
    },
    {
     "name": "stderr",
     "output_type": "stream",
     "text": [
      "WARNING: You are using pip version 21.0.1; however, version 21.1.1 is available.\n",
      "You should consider upgrading via the '/usr/local/opt/python@3.9/bin/python3.9 -m pip install --upgrade pip' command.\n"
     ]
    },
    {
     "data": {
      "text/plain": [
       "0"
      ]
     },
     "execution_count": 17,
     "metadata": {},
     "output_type": "execute_result"
    }
   ],
   "source": [
    "import pip\n",
    "pip.main(['install', 'xgboost'])"
   ]
  },
  {
   "cell_type": "code",
   "execution_count": 14,
   "id": "strange-neutral",
   "metadata": {
    "ExecuteTime": {
     "end_time": "2021-04-15T17:50:46.139227Z",
     "start_time": "2021-04-15T17:50:46.077732Z"
    }
   },
   "outputs": [],
   "source": [
    "import xgboost as xgb"
   ]
  },
  {
   "cell_type": "code",
   "execution_count": 15,
   "id": "integrated-constraint",
   "metadata": {
    "ExecuteTime": {
     "end_time": "2021-04-15T18:25:39.980993Z",
     "start_time": "2021-04-15T18:25:39.956820Z"
    }
   },
   "outputs": [
    {
     "data": {
      "text/html": [
       "<div>\n",
       "<style scoped>\n",
       "    .dataframe tbody tr th:only-of-type {\n",
       "        vertical-align: middle;\n",
       "    }\n",
       "\n",
       "    .dataframe tbody tr th {\n",
       "        vertical-align: top;\n",
       "    }\n",
       "\n",
       "    .dataframe thead th {\n",
       "        text-align: right;\n",
       "    }\n",
       "</style>\n",
       "<table border=\"1\" class=\"dataframe\">\n",
       "  <thead>\n",
       "    <tr style=\"text-align: right;\">\n",
       "      <th></th>\n",
       "      <th>Password</th>\n",
       "      <th>Times</th>\n",
       "      <th>number_of_characters</th>\n",
       "      <th>uppercase_letters</th>\n",
       "      <th>lowercase_letters</th>\n",
       "      <th>number_of_numbers</th>\n",
       "      <th>number_of_symbols</th>\n",
       "      <th>middel_numbers_or_symbols</th>\n",
       "      <th>letters_only</th>\n",
       "      <th>numbers_only</th>\n",
       "      <th>consecutive_uppercase_letters</th>\n",
       "      <th>consecutive_lowercase_letters</th>\n",
       "      <th>consecutive_numbers</th>\n",
       "    </tr>\n",
       "  </thead>\n",
       "  <tbody>\n",
       "    <tr>\n",
       "      <th>0</th>\n",
       "      <td>631XniVx2lS5I</td>\n",
       "      <td>2</td>\n",
       "      <td>52</td>\n",
       "      <td>18</td>\n",
       "      <td>18</td>\n",
       "      <td>20</td>\n",
       "      <td>0</td>\n",
       "      <td>8</td>\n",
       "      <td>0</td>\n",
       "      <td>0</td>\n",
       "      <td>0</td>\n",
       "      <td>2</td>\n",
       "      <td>4</td>\n",
       "    </tr>\n",
       "    <tr>\n",
       "      <th>1</th>\n",
       "      <td>LEGIT747</td>\n",
       "      <td>1</td>\n",
       "      <td>32</td>\n",
       "      <td>6</td>\n",
       "      <td>16</td>\n",
       "      <td>12</td>\n",
       "      <td>0</td>\n",
       "      <td>4</td>\n",
       "      <td>0</td>\n",
       "      <td>0</td>\n",
       "      <td>8</td>\n",
       "      <td>0</td>\n",
       "      <td>4</td>\n",
       "    </tr>\n",
       "    <tr>\n",
       "      <th>2</th>\n",
       "      <td>742364es</td>\n",
       "      <td>1</td>\n",
       "      <td>32</td>\n",
       "      <td>16</td>\n",
       "      <td>12</td>\n",
       "      <td>24</td>\n",
       "      <td>0</td>\n",
       "      <td>10</td>\n",
       "      <td>0</td>\n",
       "      <td>0</td>\n",
       "      <td>0</td>\n",
       "      <td>2</td>\n",
       "      <td>10</td>\n",
       "    </tr>\n",
       "    <tr>\n",
       "      <th>3</th>\n",
       "      <td>3846696477</td>\n",
       "      <td>1</td>\n",
       "      <td>40</td>\n",
       "      <td>20</td>\n",
       "      <td>20</td>\n",
       "      <td>40</td>\n",
       "      <td>0</td>\n",
       "      <td>16</td>\n",
       "      <td>0</td>\n",
       "      <td>10</td>\n",
       "      <td>0</td>\n",
       "      <td>0</td>\n",
       "      <td>18</td>\n",
       "    </tr>\n",
       "    <tr>\n",
       "      <th>4</th>\n",
       "      <td>laurahop</td>\n",
       "      <td>2</td>\n",
       "      <td>32</td>\n",
       "      <td>16</td>\n",
       "      <td>0</td>\n",
       "      <td>0</td>\n",
       "      <td>0</td>\n",
       "      <td>0</td>\n",
       "      <td>8</td>\n",
       "      <td>0</td>\n",
       "      <td>0</td>\n",
       "      <td>14</td>\n",
       "      <td>0</td>\n",
       "    </tr>\n",
       "    <tr>\n",
       "      <th>...</th>\n",
       "      <td>...</td>\n",
       "      <td>...</td>\n",
       "      <td>...</td>\n",
       "      <td>...</td>\n",
       "      <td>...</td>\n",
       "      <td>...</td>\n",
       "      <td>...</td>\n",
       "      <td>...</td>\n",
       "      <td>...</td>\n",
       "      <td>...</td>\n",
       "      <td>...</td>\n",
       "      <td>...</td>\n",
       "      <td>...</td>\n",
       "    </tr>\n",
       "    <tr>\n",
       "      <th>4151491</th>\n",
       "      <td>7503ri</td>\n",
       "      <td>1</td>\n",
       "      <td>24</td>\n",
       "      <td>12</td>\n",
       "      <td>8</td>\n",
       "      <td>16</td>\n",
       "      <td>0</td>\n",
       "      <td>6</td>\n",
       "      <td>0</td>\n",
       "      <td>0</td>\n",
       "      <td>0</td>\n",
       "      <td>2</td>\n",
       "      <td>6</td>\n",
       "    </tr>\n",
       "    <tr>\n",
       "      <th>4151492</th>\n",
       "      <td>trou</td>\n",
       "      <td>2</td>\n",
       "      <td>16</td>\n",
       "      <td>8</td>\n",
       "      <td>0</td>\n",
       "      <td>0</td>\n",
       "      <td>0</td>\n",
       "      <td>0</td>\n",
       "      <td>4</td>\n",
       "      <td>0</td>\n",
       "      <td>0</td>\n",
       "      <td>6</td>\n",
       "      <td>0</td>\n",
       "    </tr>\n",
       "    <tr>\n",
       "      <th>4151493</th>\n",
       "      <td>300762</td>\n",
       "      <td>7</td>\n",
       "      <td>24</td>\n",
       "      <td>12</td>\n",
       "      <td>12</td>\n",
       "      <td>24</td>\n",
       "      <td>0</td>\n",
       "      <td>8</td>\n",
       "      <td>0</td>\n",
       "      <td>6</td>\n",
       "      <td>0</td>\n",
       "      <td>0</td>\n",
       "      <td>10</td>\n",
       "    </tr>\n",
       "    <tr>\n",
       "      <th>4151494</th>\n",
       "      <td>seaurchin007</td>\n",
       "      <td>1</td>\n",
       "      <td>48</td>\n",
       "      <td>24</td>\n",
       "      <td>6</td>\n",
       "      <td>12</td>\n",
       "      <td>0</td>\n",
       "      <td>4</td>\n",
       "      <td>0</td>\n",
       "      <td>0</td>\n",
       "      <td>0</td>\n",
       "      <td>16</td>\n",
       "      <td>4</td>\n",
       "    </tr>\n",
       "    <tr>\n",
       "      <th>4151495</th>\n",
       "      <td>65255808</td>\n",
       "      <td>1</td>\n",
       "      <td>32</td>\n",
       "      <td>16</td>\n",
       "      <td>16</td>\n",
       "      <td>32</td>\n",
       "      <td>0</td>\n",
       "      <td>12</td>\n",
       "      <td>0</td>\n",
       "      <td>8</td>\n",
       "      <td>0</td>\n",
       "      <td>0</td>\n",
       "      <td>14</td>\n",
       "    </tr>\n",
       "  </tbody>\n",
       "</table>\n",
       "<p>4151496 rows × 13 columns</p>\n",
       "</div>"
      ],
      "text/plain": [
       "              Password  Times  number_of_characters  uppercase_letters  \\\n",
       "0        631XniVx2lS5I      2                    52                 18   \n",
       "1             LEGIT747      1                    32                  6   \n",
       "2             742364es      1                    32                 16   \n",
       "3           3846696477      1                    40                 20   \n",
       "4             laurahop      2                    32                 16   \n",
       "...                ...    ...                   ...                ...   \n",
       "4151491         7503ri      1                    24                 12   \n",
       "4151492           trou      2                    16                  8   \n",
       "4151493         300762      7                    24                 12   \n",
       "4151494   seaurchin007      1                    48                 24   \n",
       "4151495       65255808      1                    32                 16   \n",
       "\n",
       "         lowercase_letters  number_of_numbers  number_of_symbols  \\\n",
       "0                       18                 20                  0   \n",
       "1                       16                 12                  0   \n",
       "2                       12                 24                  0   \n",
       "3                       20                 40                  0   \n",
       "4                        0                  0                  0   \n",
       "...                    ...                ...                ...   \n",
       "4151491                  8                 16                  0   \n",
       "4151492                  0                  0                  0   \n",
       "4151493                 12                 24                  0   \n",
       "4151494                  6                 12                  0   \n",
       "4151495                 16                 32                  0   \n",
       "\n",
       "         middel_numbers_or_symbols  letters_only  numbers_only  \\\n",
       "0                                8             0             0   \n",
       "1                                4             0             0   \n",
       "2                               10             0             0   \n",
       "3                               16             0            10   \n",
       "4                                0             8             0   \n",
       "...                            ...           ...           ...   \n",
       "4151491                          6             0             0   \n",
       "4151492                          0             4             0   \n",
       "4151493                          8             0             6   \n",
       "4151494                          4             0             0   \n",
       "4151495                         12             0             8   \n",
       "\n",
       "         consecutive_uppercase_letters  consecutive_lowercase_letters  \\\n",
       "0                                    0                              2   \n",
       "1                                    8                              0   \n",
       "2                                    0                              2   \n",
       "3                                    0                              0   \n",
       "4                                    0                             14   \n",
       "...                                ...                            ...   \n",
       "4151491                              0                              2   \n",
       "4151492                              0                              6   \n",
       "4151493                              0                              0   \n",
       "4151494                              0                             16   \n",
       "4151495                              0                              0   \n",
       "\n",
       "         consecutive_numbers  \n",
       "0                          4  \n",
       "1                          4  \n",
       "2                         10  \n",
       "3                         18  \n",
       "4                          0  \n",
       "...                      ...  \n",
       "4151491                    6  \n",
       "4151492                    0  \n",
       "4151493                   10  \n",
       "4151494                    4  \n",
       "4151495                   14  \n",
       "\n",
       "[4151496 rows x 13 columns]"
      ]
     },
     "execution_count": 15,
     "metadata": {},
     "output_type": "execute_result"
    }
   ],
   "source": [
    "train"
   ]
  },
  {
   "cell_type": "code",
   "execution_count": 27,
   "id": "cheap-player",
   "metadata": {
    "ExecuteTime": {
     "end_time": "2021-04-15T17:54:07.818949Z",
     "start_time": "2021-04-15T17:54:05.268967Z"
    }
   },
   "outputs": [],
   "source": [
    "# dtrain = xgb.DMatrix(X_tr, label=y_tr)\n",
    "# dval = xgb.DMatrix(X_va, label=y_va)\n",
    "# dtest = xgb.DMatrix(X_te, label=y_te)\n",
    "\n",
    "# # del X_tr"
   ]
  },
  {
   "cell_type": "code",
   "execution_count": 44,
   "id": "prompt-holmes",
   "metadata": {
    "ExecuteTime": {
     "end_time": "2021-04-15T18:26:26.797596Z",
     "start_time": "2021-04-15T18:26:20.331287Z"
    },
    "scrolled": true
   },
   "outputs": [
    {
     "name": "stdout",
     "output_type": "stream",
     "text": [
      "[0]\tvalidation_0-rmsle:0.52446\n",
      "[1]\tvalidation_0-rmsle:0.47999\n",
      "[2]\tvalidation_0-rmsle:0.44801\n",
      "[3]\tvalidation_0-rmsle:0.42617\n",
      "[4]\tvalidation_0-rmsle:0.41199\n",
      "[5]\tvalidation_0-rmsle:0.40318\n",
      "[6]\tvalidation_0-rmsle:0.39789\n",
      "[7]\tvalidation_0-rmsle:0.39482\n",
      "[8]\tvalidation_0-rmsle:0.39307\n",
      "[9]\tvalidation_0-rmsle:0.39199\n",
      "[10]\tvalidation_0-rmsle:0.39147\n",
      "[11]\tvalidation_0-rmsle:0.39108\n",
      "[12]\tvalidation_0-rmsle:0.39089\n",
      "[13]\tvalidation_0-rmsle:0.39077\n",
      "[14]\tvalidation_0-rmsle:0.39067\n",
      "[15]\tvalidation_0-rmsle:0.39063\n",
      "[16]\tvalidation_0-rmsle:0.39063\n",
      "[17]\tvalidation_0-rmsle:0.39059\n",
      "[18]\tvalidation_0-rmsle:0.39058\n",
      "[19]\tvalidation_0-rmsle:0.39055\n",
      "[20]\tvalidation_0-rmsle:0.39054\n",
      "[21]\tvalidation_0-rmsle:0.39051\n",
      "[22]\tvalidation_0-rmsle:0.39052\n",
      "[23]\tvalidation_0-rmsle:0.39052\n",
      "[24]\tvalidation_0-rmsle:0.39051\n",
      "[25]\tvalidation_0-rmsle:0.39051\n",
      "[26]\tvalidation_0-rmsle:0.39051\n",
      "[27]\tvalidation_0-rmsle:0.39050\n",
      "[28]\tvalidation_0-rmsle:0.39049\n",
      "[29]\tvalidation_0-rmsle:0.39049\n",
      "[30]\tvalidation_0-rmsle:0.39049\n",
      "[31]\tvalidation_0-rmsle:0.39049\n",
      "[32]\tvalidation_0-rmsle:0.39049\n",
      "[33]\tvalidation_0-rmsle:0.39048\n",
      "[34]\tvalidation_0-rmsle:0.39048\n",
      "[35]\tvalidation_0-rmsle:0.39048\n",
      "[36]\tvalidation_0-rmsle:0.39048\n",
      "[37]\tvalidation_0-rmsle:0.39048\n",
      "[38]\tvalidation_0-rmsle:0.39047\n",
      "[39]\tvalidation_0-rmsle:0.39047\n",
      "[40]\tvalidation_0-rmsle:0.39046\n",
      "[41]\tvalidation_0-rmsle:0.39047\n",
      "[42]\tvalidation_0-rmsle:0.39046\n",
      "[43]\tvalidation_0-rmsle:0.39046\n",
      "[44]\tvalidation_0-rmsle:0.39046\n",
      "[45]\tvalidation_0-rmsle:0.39046\n",
      "[46]\tvalidation_0-rmsle:0.39047\n",
      "[47]\tvalidation_0-rmsle:0.39046\n",
      "[48]\tvalidation_0-rmsle:0.39046\n",
      "[49]\tvalidation_0-rmsle:0.39045\n",
      "[50]\tvalidation_0-rmsle:0.39045\n",
      "[51]\tvalidation_0-rmsle:0.39045\n",
      "[52]\tvalidation_0-rmsle:0.39047\n",
      "[53]\tvalidation_0-rmsle:0.39047\n",
      "[54]\tvalidation_0-rmsle:0.39047\n",
      "[55]\tvalidation_0-rmsle:0.39046\n",
      "[56]\tvalidation_0-rmsle:0.39048\n",
      "[57]\tvalidation_0-rmsle:0.39048\n",
      "[58]\tvalidation_0-rmsle:0.39048\n",
      "[59]\tvalidation_0-rmsle:0.39048\n",
      "[60]\tvalidation_0-rmsle:0.39048\n",
      "[61]\tvalidation_0-rmsle:0.39048\n",
      "[62]\tvalidation_0-rmsle:0.39048\n",
      "[63]\tvalidation_0-rmsle:0.39048\n",
      "[64]\tvalidation_0-rmsle:0.39047\n",
      "[65]\tvalidation_0-rmsle:0.39048\n",
      "[66]\tvalidation_0-rmsle:0.39048\n",
      "[67]\tvalidation_0-rmsle:0.39048\n",
      "[68]\tvalidation_0-rmsle:0.39048\n",
      "[69]\tvalidation_0-rmsle:0.39047\n",
      "[70]\tvalidation_0-rmsle:0.39048\n",
      "[71]\tvalidation_0-rmsle:0.39048\n",
      "[72]\tvalidation_0-rmsle:0.39047\n",
      "[73]\tvalidation_0-rmsle:0.39047\n",
      "[74]\tvalidation_0-rmsle:0.39047\n",
      "[75]\tvalidation_0-rmsle:0.39046\n",
      "[76]\tvalidation_0-rmsle:0.39047\n",
      "[77]\tvalidation_0-rmsle:0.39046\n",
      "[78]\tvalidation_0-rmsle:0.39047\n",
      "[79]\tvalidation_0-rmsle:0.39046\n"
     ]
    }
   ],
   "source": [
    "fit_part, test_part = train_test_split(train, train_size=0.9, random_state=17)\n",
    "\n",
    "X_tr, y_tr = fit_part.drop(columns=['Times', 'Password']), fit_part.Times \n",
    "X_te, y_te = test_part.drop(columns=['Times', 'Password']), test_part.Times \n",
    "\n",
    "param = {\n",
    "    'objective': 'reg:squaredlogerror',\n",
    "    'nthread': -1,\n",
    "    'eval_metric': 'rmsle',\n",
    "    'n_estimators': 100,\n",
    "}\n",
    "\n",
    "evallist = [(X_te, y_te)]\n",
    "model = xgb.XGBRegressor(**param)\n",
    "model.fit(X_tr, y_tr, eval_set=evallist, early_stopping_rounds=30)"
   ]
  },
  {
   "cell_type": "code",
   "execution_count": 21,
   "id": "noted-berry",
   "metadata": {},
   "outputs": [],
   "source": [
    "# bst.save_model('../ml-models/password-complexity/xgboost_baseline.json')\n",
    "\n",
    "# bst_ = xgb.Booster()\n",
    "# bst_.load_model('../ml-models/password-complexity/xgboost_baseline.json')"
   ]
  },
  {
   "cell_type": "code",
   "execution_count": 31,
   "id": "respective-finance",
   "metadata": {},
   "outputs": [
    {
     "data": {
      "text/plain": [
       "0.3904817199116006"
      ]
     },
     "execution_count": 31,
     "metadata": {},
     "output_type": "execute_result"
    }
   ],
   "source": [
    "rmsle(y_te, bst_.predict(dtest))"
   ]
  },
  {
   "cell_type": "code",
   "execution_count": 11,
   "id": "bound-connection",
   "metadata": {},
   "outputs": [],
   "source": [
    "import xgboost as xgb\n",
    "import sklearn as skl\n",
    "print(xgb.__version__, skl.__version__)"
   ]
  },
  {
   "cell_type": "code",
   "execution_count": 12,
   "id": "presidential-marsh",
   "metadata": {},
   "outputs": [
    {
     "data": {
      "text/plain": [
       "('1.4.1', '0.24.1')"
      ]
     },
     "execution_count": 12,
     "metadata": {},
     "output_type": "execute_result"
    }
   ],
   "source": []
  },
  {
   "cell_type": "code",
   "execution_count": 4,
   "id": "tropical-brick",
   "metadata": {},
   "outputs": [],
   "source": [
    "import pickle\n",
    "import pandas as pd"
   ]
  },
  {
   "cell_type": "code",
   "execution_count": 48,
   "id": "genetic-catch",
   "metadata": {},
   "outputs": [],
   "source": [
    "with open('../ml-models-service/ml_models/password_complexity/xgboost_baseline.pkl', 'wb') as file:\n",
    "    pickle.dump(model, file)"
   ]
  },
  {
   "cell_type": "code",
   "execution_count": 3,
   "id": "behind-characteristic",
   "metadata": {},
   "outputs": [],
   "source": [
    "with open('../ml-models-service/ml_models/password_complexity/xgboost_baseline.pkl', 'rb') as f:\n",
    "    model = pickle.load(f)"
   ]
  },
  {
   "cell_type": "code",
   "execution_count": 5,
   "id": "latin-malpractice",
   "metadata": {},
   "outputs": [],
   "source": [
    "def get_features(password):\n",
    "    data = pd.DataFrame([password], columns=['password'])\n",
    "    for f in feature_funcs:\n",
    "        data[f.__qualname__] = data.password.apply(f).astype('int8', copy=False)\n",
    "    return data.drop(columns=['password'])"
   ]
  },
  {
   "cell_type": "code",
   "execution_count": 6,
   "id": "arranged-council",
   "metadata": {},
   "outputs": [
    {
     "data": {
      "text/plain": [
       "2.1998448"
      ]
     },
     "execution_count": 6,
     "metadata": {},
     "output_type": "execute_result"
    }
   ],
   "source": [
    "model.predict(get_features('qwer'))[0]"
   ]
  },
  {
   "cell_type": "code",
   "execution_count": 38,
   "id": "numerous-option",
   "metadata": {},
   "outputs": [
    {
     "data": {
      "text/plain": [
       "<xgboost.core.Booster at 0x103bfc520>"
      ]
     },
     "execution_count": 38,
     "metadata": {},
     "output_type": "execute_result"
    }
   ],
   "source": []
  },
  {
   "cell_type": "code",
   "execution_count": 37,
   "id": "widespread-aggregate",
   "metadata": {},
   "outputs": [
    {
     "ename": "NotFittedError",
     "evalue": "need to call fit or load_model beforehand",
     "output_type": "error",
     "traceback": [
      "\u001b[0;31m---------------------------------------------------------------------------\u001b[0m",
      "\u001b[0;31mNotFittedError\u001b[0m                            Traceback (most recent call last)",
      "\u001b[0;32m<ipython-input-37-650051944286>\u001b[0m in \u001b[0;36m<module>\u001b[0;34m\u001b[0m\n\u001b[0;32m----> 1\u001b[0;31m \u001b[0mxgb\u001b[0m\u001b[0;34m.\u001b[0m\u001b[0mXGBRegressor\u001b[0m\u001b[0;34m(\u001b[0m\u001b[0;34m)\u001b[0m\u001b[0;34m.\u001b[0m\u001b[0mpredict\u001b[0m\u001b[0;34m(\u001b[0m\u001b[0;34m[\u001b[0m\u001b[0;36m1\u001b[0m\u001b[0;34m]\u001b[0m\u001b[0;34m)\u001b[0m\u001b[0;34m\u001b[0m\u001b[0;34m\u001b[0m\u001b[0m\n\u001b[0m",
      "\u001b[0;32m/usr/local/lib/python3.9/site-packages/xgboost/sklearn.py\u001b[0m in \u001b[0;36mpredict\u001b[0;34m(self, X, output_margin, ntree_limit, validate_features, base_margin, iteration_range)\u001b[0m\n\u001b[1;32m    813\u001b[0m         \"\"\"\n\u001b[1;32m    814\u001b[0m         iteration_range = _convert_ntree_limit(\n\u001b[0;32m--> 815\u001b[0;31m             \u001b[0mself\u001b[0m\u001b[0;34m.\u001b[0m\u001b[0mget_booster\u001b[0m\u001b[0;34m(\u001b[0m\u001b[0;34m)\u001b[0m\u001b[0;34m,\u001b[0m \u001b[0mntree_limit\u001b[0m\u001b[0;34m,\u001b[0m \u001b[0miteration_range\u001b[0m\u001b[0;34m\u001b[0m\u001b[0;34m\u001b[0m\u001b[0m\n\u001b[0m\u001b[1;32m    816\u001b[0m         )\n\u001b[1;32m    817\u001b[0m         \u001b[0miteration_range\u001b[0m \u001b[0;34m=\u001b[0m \u001b[0mself\u001b[0m\u001b[0;34m.\u001b[0m\u001b[0m_get_iteration_range\u001b[0m\u001b[0;34m(\u001b[0m\u001b[0miteration_range\u001b[0m\u001b[0;34m)\u001b[0m\u001b[0;34m\u001b[0m\u001b[0;34m\u001b[0m\u001b[0m\n",
      "\u001b[0;32m/usr/local/lib/python3.9/site-packages/xgboost/sklearn.py\u001b[0m in \u001b[0;36mget_booster\u001b[0;34m(self)\u001b[0m\n\u001b[1;32m    395\u001b[0m         \u001b[0;32mif\u001b[0m \u001b[0;32mnot\u001b[0m \u001b[0mhasattr\u001b[0m\u001b[0;34m(\u001b[0m\u001b[0mself\u001b[0m\u001b[0;34m,\u001b[0m \u001b[0;34m'_Booster'\u001b[0m\u001b[0;34m)\u001b[0m\u001b[0;34m:\u001b[0m\u001b[0;34m\u001b[0m\u001b[0;34m\u001b[0m\u001b[0m\n\u001b[1;32m    396\u001b[0m             \u001b[0;32mfrom\u001b[0m \u001b[0msklearn\u001b[0m\u001b[0;34m.\u001b[0m\u001b[0mexceptions\u001b[0m \u001b[0;32mimport\u001b[0m \u001b[0mNotFittedError\u001b[0m\u001b[0;34m\u001b[0m\u001b[0;34m\u001b[0m\u001b[0m\n\u001b[0;32m--> 397\u001b[0;31m             \u001b[0;32mraise\u001b[0m \u001b[0mNotFittedError\u001b[0m\u001b[0;34m(\u001b[0m\u001b[0;34m'need to call fit or load_model beforehand'\u001b[0m\u001b[0;34m)\u001b[0m\u001b[0;34m\u001b[0m\u001b[0;34m\u001b[0m\u001b[0m\n\u001b[0m\u001b[1;32m    398\u001b[0m         \u001b[0;32mreturn\u001b[0m \u001b[0mself\u001b[0m\u001b[0;34m.\u001b[0m\u001b[0m_Booster\u001b[0m\u001b[0;34m\u001b[0m\u001b[0;34m\u001b[0m\u001b[0m\n\u001b[1;32m    399\u001b[0m \u001b[0;34m\u001b[0m\u001b[0m\n",
      "\u001b[0;31mNotFittedError\u001b[0m: need to call fit or load_model beforehand"
     ]
    }
   ],
   "source": [
    "xgb.XGBRegressor().predict([1])"
   ]
  },
  {
   "cell_type": "code",
   "execution_count": 37,
   "id": "blind-willow",
   "metadata": {
    "ExecuteTime": {
     "end_time": "2021-04-15T18:30:44.830780Z",
     "start_time": "2021-04-15T18:30:44.825338Z"
    }
   },
   "outputs": [
    {
     "data": {
      "text/html": [
       "<div>\n",
       "<style scoped>\n",
       "    .dataframe tbody tr th:only-of-type {\n",
       "        vertical-align: middle;\n",
       "    }\n",
       "\n",
       "    .dataframe tbody tr th {\n",
       "        vertical-align: top;\n",
       "    }\n",
       "\n",
       "    .dataframe thead th {\n",
       "        text-align: right;\n",
       "    }\n",
       "</style>\n",
       "<table border=\"1\" class=\"dataframe\">\n",
       "  <thead>\n",
       "    <tr style=\"text-align: right;\">\n",
       "      <th></th>\n",
       "      <th>password</th>\n",
       "    </tr>\n",
       "  </thead>\n",
       "  <tbody>\n",
       "    <tr>\n",
       "      <th>0</th>\n",
       "      <td>aaa</td>\n",
       "    </tr>\n",
       "  </tbody>\n",
       "</table>\n",
       "</div>"
      ],
      "text/plain": [
       "  password\n",
       "0      aaa"
      ]
     },
     "execution_count": 37,
     "metadata": {},
     "output_type": "execute_result"
    }
   ],
   "source": [
    "pd.DataFrame(['aaa'], columns=['password'])"
   ]
  },
  {
   "cell_type": "code",
   "execution_count": null,
   "id": "curious-fellowship",
   "metadata": {
    "ExecuteTime": {
     "end_time": "2021-04-15T18:31:19.652666Z",
     "start_time": "2021-04-15T18:31:16.593042Z"
    }
   },
   "outputs": [],
   "source": [
    "# sub[\"Times\"] = pd.Series(y_sub)\n",
    "# sub.set_index(\"Id\").to_csv('my_sub.csv')"
   ]
  },
  {
   "cell_type": "code",
   "execution_count": null,
   "id": "thirty-carolina",
   "metadata": {},
   "outputs": [],
   "source": []
  }
 ],
 "metadata": {
  "kernelspec": {
   "display_name": "Python 3",
   "language": "python",
   "name": "python3"
  },
  "language_info": {
   "codemirror_mode": {
    "name": "ipython",
    "version": 3
   },
   "file_extension": ".py",
   "mimetype": "text/x-python",
   "name": "python",
   "nbconvert_exporter": "python",
   "pygments_lexer": "ipython3",
   "version": "3.9.2"
  }
 },
 "nbformat": 4,
 "nbformat_minor": 5
}
